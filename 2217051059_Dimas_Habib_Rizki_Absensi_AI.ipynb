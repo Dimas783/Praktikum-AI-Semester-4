{
  "nbformat": 4,
  "nbformat_minor": 0,
  "metadata": {
    "colab": {
      "private_outputs": true,
      "provenance": []
    },
    "kernelspec": {
      "name": "python3",
      "display_name": "Python 3"
    },
    "language_info": {
      "name": "python"
    }
  },
  "cells": [
    {
      "cell_type": "markdown",
      "source": [
        "## Decision Tree"
      ],
      "metadata": {
        "id": "9WzjOWANpO-Y"
      }
    },
    {
      "cell_type": "markdown",
      "source": [
        "## Library"
      ],
      "metadata": {
        "id": "vxtzIs9hpSIX"
      }
    },
    {
      "cell_type": "code",
      "source": [
        "import pandas as pd\n",
        "import numpy as np\n",
        "from sklearn.tree import DecisionTreeClassifier\n",
        "from sklearn.metrics import accuracy_score\n",
        "import warnings\n",
        "warnings.filterwarnings(\"ignore\")"
      ],
      "metadata": {
        "id": "qEZLKTIgpQ2O"
      },
      "execution_count": null,
      "outputs": []
    },
    {
      "cell_type": "markdown",
      "source": [
        "## Load Data"
      ],
      "metadata": {
        "id": "cGwBP35fpU5A"
      }
    },
    {
      "cell_type": "code",
      "source": [
        "#Menggunakan pandas untuk membaca file CSV dari URL dan menyimpannya ke dalam Dataframe df\n",
        "df = pd.read_csv(\"https://raw.githubusercontent.com/rahmantaufik27/dataset/main/study/daily_weather_prediction.csv\")"
      ],
      "metadata": {
        "id": "Nh24q1YTpW8X"
      },
      "execution_count": null,
      "outputs": []
    },
    {
      "cell_type": "code",
      "source": [
        "#Menampilkan seluruh isi DataFrame df\n",
        "df"
      ],
      "metadata": {
        "id": "fDth-cyYpYQm"
      },
      "execution_count": null,
      "outputs": []
    },
    {
      "cell_type": "markdown",
      "source": [
        "## EDA (Exploratory Data Analysis)"
      ],
      "metadata": {
        "id": "wSVfIZdQpdL-"
      }
    },
    {
      "cell_type": "code",
      "source": [
        "#Menampilkan informasi tentang DataFrame df, termasuk jumlah baris dan kolom, tipe data setiap kolom\n",
        "#serta jumlah nilai non-null dan pengunaan memori\n",
        "df.info()"
      ],
      "metadata": {
        "id": "aG19U8EBpiJe"
      },
      "execution_count": null,
      "outputs": []
    },
    {
      "cell_type": "code",
      "source": [
        "df.isnull().sum()"
      ],
      "metadata": {
        "id": "oLrsIWm6plB2"
      },
      "execution_count": null,
      "outputs": []
    },
    {
      "cell_type": "code",
      "source": [
        "#Menggunakan method describe() untuk mendapatkan ringkasan statistik dari data numerik dalam DataFrame df\n",
        "df.describe()"
      ],
      "metadata": {
        "id": "CnVOfu0qpnO1"
      },
      "execution_count": null,
      "outputs": []
    },
    {
      "cell_type": "markdown",
      "source": [
        "## Preprocessing"
      ],
      "metadata": {
        "id": "JqoPct_ppoPG"
      }
    },
    {
      "cell_type": "code",
      "source": [
        "#Menggunakan method dropna() untuk menghapus baris yang mengandung nilai null dari dataframe df\n",
        "#dan menyimpan dataframe yang telah dimodifikasi kembali ke variabel df\n",
        "df = df.dropna()"
      ],
      "metadata": {
        "id": "9SkRHkmLppzG"
      },
      "execution_count": null,
      "outputs": []
    },
    {
      "cell_type": "code",
      "source": [
        "#Menambahkan kolom baru 'high_humidity_label' ke dataframe df\n",
        "df['high_humidity_label'] = (df['relative_humidity_3pm'] > 24.99) * 1"
      ],
      "metadata": {
        "id": "uUDYUU4cprR2"
      },
      "execution_count": null,
      "outputs": []
    },
    {
      "cell_type": "code",
      "source": [
        "#Mendapatkan list nama-nama kolom dari DataFrame df\n",
        "features = list(df.columns)\n",
        "\n",
        "#Menghapus kolom 'number' dari list fitur\n",
        "features.remove('number')\n",
        "\n",
        "#Menghapus kolom 'relative_humidity_9am' dari list fitur\n",
        "features.remove('relative_humidity_9am')\n",
        "\n",
        "#Menghapus kolom 'relative_humidity_3pm' dari list fitur\n",
        "features.remove('relative_humidity_3pm')\n",
        "\n",
        "#Menghapus kolom 'high_humidity_label' dari list fitur\n",
        "features.remove('high_humidity_label')\n",
        "\n",
        "#Menampilkan list fitur yang telah dimodifikasi\n",
        "features"
      ],
      "metadata": {
        "id": "cGCvDMpWprhE"
      },
      "execution_count": null,
      "outputs": []
    },
    {
      "cell_type": "code",
      "source": [
        "#Memilih subset dari DataFrame df yang hanya terdiri dari fitur-fitur yang telah dipersiapkan sebelumnya\n",
        "x = df[features].copy()\n",
        "\n",
        "#Memilih kolom 'high_humidity_label' dari DataFrame df sebagai target variabel yang akan diprediksi\n",
        "y = df[\"high_humidity_label\"].copy()"
      ],
      "metadata": {
        "id": "Sp_vcN9wpv8t"
      },
      "execution_count": null,
      "outputs": []
    },
    {
      "cell_type": "code",
      "source": [
        "train_pct_index = int(0.8 * len(x))\n",
        "x_train, x_test = x[:train_pct_index], x[train_pct_index:]\n",
        "y_train, y_test = y[:train_pct_index], y[train_pct_index:]"
      ],
      "metadata": {
        "id": "qzbWvA8LpxDt"
      },
      "execution_count": null,
      "outputs": []
    },
    {
      "cell_type": "markdown",
      "source": [
        "## Modelling"
      ],
      "metadata": {
        "id": "HdTYkHfdpycG"
      }
    },
    {
      "cell_type": "code",
      "source": [
        "#Membuat objek DecisionTreeClassifier dengan mengatur jumlah maksimum leaf nodes (simpul daun) menjadi 10\n",
        "#dan menetapkan nilai random_state agar hasilnya dapat direproduksi dengan konsisten\n",
        "dt_cls = DecisionTreeClassifier(max_leaf_nodes=10, random_state=0)\n",
        "\n",
        "#Melatih model DecisionTreeClassifier menggunakan data pelatihan yang telah dipersiapkan\n",
        "#Ini dilakukan dengan menggunakan metode fit(), di mana x_train adalah fitur-fitur pelatihan\n",
        "#dan y_train adalah label pelatihan yang ingin diprediksi oleh model\n",
        "dt_cls.fit(x_train, y_train)"
      ],
      "metadata": {
        "id": "bgNieGFNp0Zd"
      },
      "execution_count": null,
      "outputs": []
    },
    {
      "cell_type": "markdown",
      "source": [
        "## Prediction"
      ],
      "metadata": {
        "id": "SPZmFmYqp2Vd"
      }
    },
    {
      "cell_type": "code",
      "source": [
        "#Melakukan prediksi menggunakan model DecisionTreeClassifier yang telah dilatih sebelumnya\n",
        "#Pada data pengujian x_test, ini dilakukan dengan menggunakan metode predict()\n",
        "y_pred = dt_cls.predict(x_test)\n",
        "\n",
        "#Menampilkan hasil prediksi yang disimpan dalam variabel y_pred\n",
        "y_pred"
      ],
      "metadata": {
        "id": "gb4dKTMVp302"
      },
      "execution_count": null,
      "outputs": []
    },
    {
      "cell_type": "code",
      "source": [
        "#Menghitung akurasi antara label yang sebenarnya (y_test) dan label yang diprediksi (y_pred)\n",
        "acc = accuracy_score(y_test, y_pred)\n",
        "\n",
        "#Menampilkan akurasi dalam bentuk persentase dengan dua angka desimal\n",
        "print(\"Akurasi: %.2f%%\" % (acc * 100))"
      ],
      "metadata": {
        "id": "kKicovArp5sd"
      },
      "execution_count": null,
      "outputs": []
    },
    {
      "cell_type": "markdown",
      "source": [
        "## Conclusion\n",
        "Dengan menggunakan model Decision Tree Classifier dengan batasan maksimum 10 leaf nodes, akurasi prediksi pada data pengujian adalah sekitar 78.87% Ini menunjukkan bahwa model tersebut dapat dengan tepat memprediksi label \"High_Humidity\" dengan tingkat keberhasilan sekitar 78.87% berdasarkan fitur-fitur yang telah dipilih."
      ],
      "metadata": {
        "id": "ptZvtWGCp7VP"
      }
    }
  ]
}